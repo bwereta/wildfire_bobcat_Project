{
 "cells": [
  {
   "cell_type": "code",
   "execution_count": 1,
   "id": "15a0a123-2212-485d-a6fc-7147318f8c9c",
   "metadata": {},
   "outputs": [
    {
     "name": "stdout",
     "output_type": "stream",
     "text": [
      "/shared/Wildfire/Bety_wildfire_project/Bety_A_S_code/Alpha_Code/wildfire_new/uavsar-main/python\n"
     ]
    }
   ],
   "source": [
    "import sys\n",
    "from pathlib import Path\n",
    "\n",
    "# Add the path to the utils folder to sys.path\n",
    "utils_path = Path('../python').resolve()\n",
    "print(utils_path)\n",
    "sys.path.append(str(utils_path))\n",
    "\n",
    "from pathlib import Path\n",
    "from rasterio.crs import CRS\n",
    "from crop_utils import (crop_image_by_coordinates, \n",
    "                        crop_image_by_geojson_shp, \n",
    "                        reproject_geotiff)\n",
    "from edit_path_utils import (edit_paths)\n",
    "\n",
    "import rasterio\n",
    "import numpy as np\n",
    "from pathlib import Path\n",
    "import matplotlib.pyplot as plt\n",
    "from process_utils import (preprocess_data,\n",
    "                           superpixel_segmentation,\n",
    "                            tv_denoise, \n",
    "                            preprocess_for_merge)\n",
    "from rio_utils import (reproject_arr_to_match_profile)"
   ]
  },
  {
   "cell_type": "code",
   "execution_count": null,
   "id": "5cab4449-34d4-4bb2-a648-061a2ea2673d",
   "metadata": {},
   "outputs": [],
   "source": [
    "# data_dir = Path(\"/shared/Wildfire/Bety_wildfire_project/Bety_data_test/post_rectangle_45km_40km\")\n",
    "# tifs = sorted(list(data_dir.rglob('./*_alpha1.tif')))\n",
    "# tifs"
   ]
  },
  {
   "cell_type": "code",
   "execution_count": null,
   "id": "7b5cbee4-184d-413c-a6cc-3b7a611c7034",
   "metadata": {},
   "outputs": [],
   "source": [
    "# path_to_images = tifs\n",
    "# center_longitude = -117.92976\n",
    "# center_latitude = 34.33253\n",
    "# width_km = 45\n",
    "# height_km =40\n",
    "\n",
    "# output_names = [str(data_dir) + '/' + file.stem + '_box_crop_' + str(width_km) +\"km_\"+ str(height_km) + 'km.tif' for file in path_to_images]\n",
    "# print(*output_names, sep=\"\\n\")"
   ]
  },
  {
   "cell_type": "code",
   "execution_count": null,
   "id": "686b999d-0dd9-4535-b000-5b0c0a2e7fb0",
   "metadata": {},
   "outputs": [],
   "source": [
    "# for i in range(len(path_to_images)):\n",
    "#     crop_image_by_coordinates(path_to_images[i],\n",
    "#                               output_names[i], \n",
    "#                               center_longitude, \n",
    "#                               center_latitude, \n",
    "#                               width_km,\n",
    "#                               height_km)"
   ]
  },
  {
   "cell_type": "code",
   "execution_count": null,
   "id": "9d8a2892-0009-4b6f-988e-299eb0f7a0d6",
   "metadata": {},
   "outputs": [],
   "source": [
    "# Opens a GeoTIFF and loads the backscatter values and profile\n",
    "def open_one(path):\n",
    "    with rasterio.open(path) as ds:\n",
    "        band = ds.read(1)\n",
    "        profile = ds.profile\n",
    "    return band, profile"
   ]
  },
  {
   "cell_type": "code",
   "execution_count": null,
   "id": "6b35c411-d13d-475f-bb35-7cd52d5ebb86",
   "metadata": {},
   "outputs": [],
   "source": [
    "def inc_filter(img):\n",
    "    img_deg = np.rad2deg(img)\n",
    "    mask = (img_deg < 25) | (img_deg > 65)\n",
    "    img_deg[mask] = 999\n",
    "    return img_deg"
   ]
  },
  {
   "cell_type": "code",
   "execution_count": null,
   "id": "fc7649c7-255b-4e60-9307-a152bc36a42e",
   "metadata": {},
   "outputs": [],
   "source": [
    "def denoise(data, weight):\n",
    "    mask = np.isnan(data)\n",
    "    data[mask] = 9999\n",
    "    data_tv = tv_denoise(data, weight)\n",
    "    data_tv[mask] = np.nan\n",
    "\n",
    "    return data_tv"
   ]
  },
  {
   "cell_type": "code",
   "execution_count": null,
   "id": "27273e39-1e77-4fe0-aa03-22dd00387239",
   "metadata": {},
   "outputs": [],
   "source": [
    "def weighted_inc_merge(img_0, img_1, inc_0, inc_1):\n",
    "    \n",
    "    valid_pixel_0 = ~np.isnan(img_0) & (inc_0 >= 25) & (inc_0 <= 65)\n",
    "    valid_pixel_1 = ~np.isnan(img_1) & (inc_1 >= 25) & (inc_1 <= 65)\n",
    "    invalid_pixel_0 = np.isnan(img_0) | (inc_0 < 25) | (inc_0 > 65)\n",
    "    invalid_pixel_1 = np.isnan(img_1) | (inc_1 < 25) | (inc_1 > 65)\n",
    "\n",
    "    w0 = inc_0/ (inc_0 + inc_1)\n",
    "    w1 = inc_1 / (inc_0 + inc_1)\n",
    "    img_merged = np.empty_like(img_0)\n",
    "    img_merged[:] = np.nan\n",
    "\n",
    "    # combine valid pixels\n",
    "    img_merged[valid_pixel_0] = (w0 * img_0)[valid_pixel_0] + (w1 * img_1)[valid_pixel_0]\n",
    "    img_merged[valid_pixel_1] = (w0 * img_0)[valid_pixel_1] + (w1 * img_1)[valid_pixel_1]\n",
    "\n",
    "    # combine cases where one pixel is valid and the other is not\n",
    "    img_merged[valid_pixel_0 & invalid_pixel_1] = img_0[valid_pixel_0 & invalid_pixel_1]\n",
    "    img_merged[valid_pixel_1 & invalid_pixel_0] = img_1[valid_pixel_1 & invalid_pixel_0]\n",
    "\n",
    "    return img_merged\n"
   ]
  },
  {
   "cell_type": "code",
   "execution_count": null,
   "id": "0c786939-976c-4443-95b5-b3aa79be9a94",
   "metadata": {},
   "outputs": [],
   "source": [
    "# #Dr.Uma Code \n",
    "# def weighted_inc_merge(img_0, img_1, inc_0, inc_1):\n",
    "\n",
    "#     valid_pixel_0 = ~np.isnan(img_0) & (inc_0 >= 20) & (inc_0 <= 60)\n",
    "#     valid_pixel_1 = ~np.isnan(img_1) & (inc_1 >= 20) & (inc_1 <= 60)\n",
    "#     invalid_pixel_0 = np.isnan(img_0) | (inc_0 < 20) | (inc_0 > 60)\n",
    "#     invalid_pixel_1 = np.isnan(img_1) | (inc_1 < 20) | (inc_1 > 60)\n",
    "\n",
    "#     w0 = inc_0 / (inc_0 + inc_1)\n",
    "#     w1 = inc_0 / (inc_1 + inc_1)\n",
    "#     img_merged = np.empty_like(img_0)\n",
    "#     img_merged[:] = np.nan\n",
    "\n",
    "#     # combine valid pixels\n",
    "#     # img_merged[valid_pixel_0] = (w0 * img_0)[valid_pixel_0] + (w1 * img_1)[valid_pixel_0]\n",
    "#     # img_merged[valid_pixel_1] = (w0 * img_0)[valid_pixel_1] + (w1 * img_1)[valid_pixel_1]\n",
    "\n",
    "#     # combine cases where one pixel is valid and the other is not\n",
    "#     img_merged[valid_pixel_0 & invalid_pixel_1] = img_0[valid_pixel_0 & invalid_pixel_1]\n",
    "#     img_merged[valid_pixel_1 & invalid_pixel_0] = img_1[valid_pixel_1 & invalid_pixel_0]\n",
    "#     img_merged[invalid_pixel_0 & invalid_pixel_1] = (w0 * img_0)[invalid_pixel_0 & invalid_pixel_1] + (w1 * img_1)[invalid_pixel_0 & invalid_pixel_1]\n",
    "\n",
    "#     return img_merged"
   ]
  },
  {
   "cell_type": "code",
   "execution_count": null,
   "id": "cc4e1a59-e98f-4588-8167-f2c20c4eb367",
   "metadata": {},
   "outputs": [],
   "source": [
    "data_dir = Path(\"/shared/Wildfire/Bety_wildfire_project/Bety_data_test/post_rectangle_45km_40km\")\n",
    "\n",
    "tifs = sorted([tif for tif in data_dir.glob('*alpha1_box_crop_45km_40km.tif') if not tif.name.startswith('._')])\n",
    "tifs"
   ]
  },
  {
   "cell_type": "code",
   "execution_count": null,
   "id": "aef9ec87-ae67-4138-8754-ac5a15272964",
   "metadata": {},
   "outputs": [],
   "source": [
    "tifs[0], tifs[2], tifs[1], tifs[3]"
   ]
  },
  {
   "cell_type": "code",
   "execution_count": null,
   "id": "2bcf9bcd-4295-4319-94c1-661426c35755",
   "metadata": {},
   "outputs": [],
   "source": [
    "data_dir = Path(\"/shared/Wildfire/Bety_wildfire_project/Bety_data_test/post_rectangle_45km_40km\")\n",
    "\n",
    "incs = sorted(list(data_dir.rglob('./*inc_box_crop_45km_40km*.tif')))\n",
    "incs"
   ]
  },
  {
   "cell_type": "code",
   "execution_count": null,
   "id": "a69d85db-eb06-4f2c-9a12-5ad491c42d07",
   "metadata": {},
   "outputs": [],
   "source": [
    "incs[0], incs[2], incs[1], incs[3]"
   ]
  },
  {
   "cell_type": "code",
   "execution_count": null,
   "id": "65e51671-fa5e-4026-9198-0e3d8cb13d0b",
   "metadata": {},
   "outputs": [],
   "source": [
    "# def preprocess_for_merge(data: np.ndarray) -> np.ndarray:\n",
    "#     data_masked = data.copy()\n",
    "#     background_mask = (data_masked <= 0)\n",
    "#     data_masked[background_mask] = np.nan\n",
    "#     return data_masked\n"
   ]
  },
  {
   "cell_type": "code",
   "execution_count": null,
   "id": "95820da9-b38e-4785-941e-01aab81235d8",
   "metadata": {},
   "outputs": [],
   "source": [
    "bands, profiles = zip(*map(open_one, tifs))\n",
    "\n",
    "bands = list(bands)\n",
    "for i in range(len(bands)):\n",
    "    bands[i] = preprocess_for_merge(bands[i]) # mask out the missing data after RTC. Scale the values to ensure consistency\n",
    "    \n",
    "\n",
    "post_south_w_to_e = bands[0]\n",
    "post_north_w_to_e = bands[1]\n",
    "post_south_e_to_w = bands[2]\n",
    "post_north_e_to_w = bands[3]\n",
    "profile_post_south_w_to_e = profiles[0]\n",
    "profile_post_north_w_to_e = profiles[1]\n",
    "profile_post_south_e_to_w = profiles[2]\n",
    "profile_post_north_e_to_w = profiles[3]\n",
    "\n"
   ]
  },
  {
   "cell_type": "code",
   "execution_count": null,
   "id": "42374b27-9415-4da1-8475-58de77ab769e",
   "metadata": {},
   "outputs": [],
   "source": [
    "inc_bands, inc_profiles = zip(*map(open_one, incs))\n",
    "\n",
    "inc_bands = list(inc_bands)\n",
    "for i in range(len(inc_bands)):\n",
    "    inc_bands[i] = inc_filter(inc_bands[i]) # convert angle from radian to degree. Filter out the bad angles\n",
    "\n",
    "post_inc_south_w_to_e = inc_bands[0]\n",
    "post_inc_north_w_to_e = inc_bands[1]\n",
    "post_inc_south_e_to_w = inc_bands[2]\n",
    "post_inc_north_e_to_w = inc_bands[3]\n",
    "profile_inc_post_south_w_to_e = inc_profiles[0]\n",
    "profile_inc_post_north_w_to_e = inc_profiles[1]\n",
    "profile_inc_post_south_e_to_w = inc_profiles[2]\n",
    "profile_inc_post_north_e_to_w = inc_profiles[3]"
   ]
  },
  {
   "cell_type": "code",
   "execution_count": null,
   "id": "44f9de85-2efc-48b5-8ede-d419f5d65599",
   "metadata": {},
   "outputs": [],
   "source": [
    "resampling = 'bilinear'"
   ]
  },
  {
   "cell_type": "code",
   "execution_count": null,
   "id": "fbee1c74-6c6e-4d0c-80bf-b5b621c52fd3",
   "metadata": {},
   "outputs": [],
   "source": [
    "# Reprojecting all the images to match the profile of pre_0. \n",
    "# We would need to perform addition and division later so the shape has to match\n",
    "\n",
    "post_south_e_to_w , _ = reproject_arr_to_match_profile(post_south_e_to_w , profile_post_south_e_to_w , profile_post_south_w_to_e, resampling=resampling)\n",
    "post_south_e_to_w  = post_south_e_to_w[0]\n",
    "post_north_w_to_e, _ = reproject_arr_to_match_profile(post_north_w_to_e, profile_post_north_w_to_e, profile_post_south_w_to_e, resampling=resampling)\n",
    "post_north_w_to_e = post_north_w_to_e[0]\n",
    "post_north_e_to_w, _ = reproject_arr_to_match_profile(post_north_e_to_w, profile_post_north_e_to_w, profile_post_south_w_to_e, resampling=resampling)\n",
    "post_north_e_to_w = post_north_e_to_w[0]\n",
    "\n",
    "post_inc_south_w_to_e, _ = reproject_arr_to_match_profile(post_inc_south_w_to_e, profile_inc_post_south_w_to_e, profile_post_south_w_to_e , resampling=resampling)\n",
    "post_inc_south_w_to_e = post_inc_south_w_to_e[0]\n",
    "post_inc_south_e_to_w, _ = reproject_arr_to_match_profile(post_inc_south_e_to_w, profile_inc_post_south_e_to_w, profile_post_south_w_to_e, resampling=resampling)\n",
    "post_inc_south_e_to_w = post_inc_south_e_to_w[0]\n",
    "\n",
    "post_inc_north_w_to_e, _ = reproject_arr_to_match_profile(post_inc_north_w_to_e, profile_inc_post_south_e_to_w, profile_post_south_w_to_e , resampling=resampling)\n",
    "post_inc_north_w_to_e = post_inc_north_w_to_e[0]\n",
    "post_inc_north_e_to_w, _ = reproject_arr_to_match_profile(post_inc_north_e_to_w, profile_inc_post_north_e_to_w, profile_post_south_w_to_e , resampling=resampling)\n",
    "post_inc_north_e_to_w = post_inc_north_e_to_w[0]"
   ]
  },
  {
   "cell_type": "code",
   "execution_count": null,
   "id": "5d70f07f-a52a-4e23-a6bf-bbdfb27f528f",
   "metadata": {},
   "outputs": [],
   "source": [
    "# note we will get error message here as we are dividing everything, \n",
    "# but those pixels with invaid value encountered were not used for the merge.\n",
    "# we only used the valid pixels for merging which should not cause error in division since 20 < inc < 60\n",
    "\n",
    "\n",
    "alpha_south = weighted_inc_merge(post_south_w_to_e, post_south_e_to_w, post_inc_south_w_to_e, post_inc_south_e_to_w)\n",
    "alpha_north = weighted_inc_merge(post_north_w_to_e, post_north_e_to_w , post_inc_north_w_to_e, post_inc_north_e_to_w)"
   ]
  },
  {
   "cell_type": "code",
   "execution_count": null,
   "id": "f03c24c6-ecde-4c95-a0d9-375a270f28b4",
   "metadata": {},
   "outputs": [],
   "source": [
    "output_path_0 = \"/shared/Wildfire/Bety_wildfire_project/Bety_data_test/post_rectangle_45km_40km/bobcat_alpha_0.tif\"\n",
    "output_path_1 = \"/shared/Wildfire/Bety_wildfire_project/Bety_data_test/post_rectangle_45km_40km/bobcat_alpha_1.tif\""
   ]
  },
  {
   "cell_type": "code",
   "execution_count": null,
   "id": "bf9c0c46-3555-4a48-8ffe-5a30d4b1ed1e",
   "metadata": {},
   "outputs": [],
   "source": [
    "with rasterio.open(output_path_0, \"w\", **profile_post_south_w_to_e) as dest:\n",
    "    dest.write(alpha_south, 1)\n",
    "\n",
    "with rasterio.open(output_path_1, \"w\", **profile_post_south_w_to_e) as dest:\n",
    "    dest.write(alpha_north, 1)\n"
   ]
  },
  {
   "cell_type": "code",
   "execution_count": null,
   "id": "b54aa5b4-2e71-438e-873d-bc39220bc381",
   "metadata": {},
   "outputs": [],
   "source": [
    "plt.imshow((alpha_south))"
   ]
  },
  {
   "cell_type": "code",
   "execution_count": null,
   "id": "73ff2390-ac9a-4ba9-99b2-eecb059954de",
   "metadata": {},
   "outputs": [],
   "source": [
    "plt.imshow((alpha_north))  "
   ]
  },
  {
   "cell_type": "code",
   "execution_count": null,
   "id": "cbde9f10-25ea-4cdd-b293-886f0279cc11",
   "metadata": {},
   "outputs": [],
   "source": [
    "print(alpha_north.shape)"
   ]
  },
  {
   "cell_type": "code",
   "execution_count": null,
   "id": "a0cc7d67-4e3c-4ff8-82e7-d811d8734e24",
   "metadata": {},
   "outputs": [],
   "source": [
    "print(alpha_south.shape)"
   ]
  },
  {
   "cell_type": "code",
   "execution_count": null,
   "id": "f8085e50-514b-44a2-9629-167bedffc572",
   "metadata": {},
   "outputs": [],
   "source": [
    "post_alpha_merged = np.nanmean(np.stack([alpha_south, alpha_north]), axis=0)\n"
   ]
  },
  {
   "cell_type": "code",
   "execution_count": null,
   "id": "34468502-f357-4a13-b307-d2754774f54d",
   "metadata": {},
   "outputs": [],
   "source": [
    "plt.figure(figsize=(10, 6))\n",
    "plt.title(\"Merged Post Alpha Image\")\n",
    "plt.imshow(np.log10(post_alpha_merged))\n",
    "#plt.colorbar(label='log10(backscatter)')\n",
    "plt.show()\n"
   ]
  },
  {
   "cell_type": "code",
   "execution_count": null,
   "id": "16d4363a-9d9c-4a85-ae22-74ebb6366632",
   "metadata": {},
   "outputs": [],
   "source": [
    "\n",
    "\n",
    "# # ---- Save merged alpha to GeoTIFF ----\n",
    "# save_path = \"/shared/Wildfire/Bety_wildfire_project/Bety_data_test/post_rectangle_45km_40km/post_merged_alpha_image_test.tif\"\n",
    "\n",
    "# # Use one of the inputs to copy geospatial metadata\n",
    "# with rasterio.open(output_path_0) as src:\n",
    "#     profile = src.profile\n",
    "\n",
    "# # Update profile for the merged image\n",
    "# profile.update({\n",
    "#     \"height\": post_alpha_merged.shape[0],\n",
    "#     \"width\": post_alpha_merged.shape[1],\n",
    "#     \"count\": 1,\n",
    "#     \"dtype\": post_alpha_merged.dtype,\n",
    "#     \"compress\": \"lzw\"\n",
    "# })\n",
    "\n",
    "# # Save merged Alpha raster\n",
    "# with rasterio.open(save_path, \"w\", **profile) as dst:\n",
    "#     dst.write(post_alpha_merged, 1)\n",
    "\n"
   ]
  },
  {
   "cell_type": "code",
   "execution_count": null,
   "id": "6b115c94-af25-44e8-b5e4-fad6d4c0de0a",
   "metadata": {},
   "outputs": [],
   "source": [
    "# import rasterio\n",
    "# import numpy as np\n",
    "\n",
    "# def print_tif_values(tif_path):\n",
    "#     \"\"\"\n",
    "#     Print the numerical values and unique values in a TIF file.\n",
    "\n",
    "#     Parameters:\n",
    "#     tif_path (str): Path to the TIF file\n",
    "#     \"\"\"\n",
    "#     try:\n",
    "#         # Open the TIF file\n",
    "#         with rasterio.open(tif_path) as src:\n",
    "#             # Print basic metadata\n",
    "#             print(f\"TIF File: {tif_path}\")\n",
    "#             print(f\"Width: {src.width}, Height: {src.height}\")\n",
    "#             print(f\"Number of bands: {src.count}\")\n",
    "#             print(f\"Data type: {src.dtypes[0]}\")\n",
    "\n",
    "#             # Read all bands\n",
    "#             for band_idx in range(1, src.count + 1):\n",
    "#                 band_data = src.read(band_idx)\n",
    "\n",
    "#                 print(f\"\\nBand {band_idx} data:\")\n",
    "\n",
    "#                 # If the array is too large, print a sample\n",
    "#                 if band_data.size > 100:\n",
    "#                     print(\"Array is large, showing statistics and sample:\")\n",
    "#                     print(f\"Min: {np.nanmin(band_data)}, Max: {np.nanmax(band_data)}, Mean: {np.nanmean(band_data):.4f}, Median: {np.nanmedian(band_data):.4f}\")\n",
    "#                     print(\"Sample of data (top-left corner):\")\n",
    "#                     print(band_data[:5, :5])  # Show a 5x5 sample from the top left\n",
    "#                 else:\n",
    "#                     # If the array is small enough, print all values\n",
    "#                     print(band_data)\n",
    "\n",
    "#                 # Extract valid (non-NaN) values and round\n",
    "#                 valid = band_data[~np.isnan(band_data)]\n",
    "#                 if valid.size > 0:\n",
    "#                     unique_vals = np.unique(np.round(valid, 2))\n",
    "#                     print(\"Unique values (non-NaN, rounded to 2 decimals):\")\n",
    "#                     print(unique_vals[:50])  # Show first 50 for brevity\n",
    "#                 else:\n",
    "#                     print(\"No valid (non-NaN) values found in this band.\")\n",
    "\n",
    "#     except Exception as e:\n",
    "#         print(f\"Error reading TIF file: {e}\")\n",
    "\n",
    "\n",
    "# # Call your function\n",
    "# tif_file_path = \"/shared/Wildfire/Bety_wildfire_project/Bety_data_test/Post_alpha_perimeter_data/post_merged_alpha_image_test.tif\"\n",
    "# print_tif_values(tif_file_path)\n"
   ]
  },
  {
   "cell_type": "code",
   "execution_count": null,
   "id": "f6b58171-33b8-4cd2-94d4-9b8b37658986",
   "metadata": {},
   "outputs": [],
   "source": [
    "# # === Save Postfire alpha1 ===\n",
    "# post_alpha1_out_path = \"/shared/Wildfire/Bety_wildfire_project/Bety_data_test/Post_alpha_perimeter_data/post_merged_alpha_image_test_aligned.npy\"\n",
    "# np.save(post_alpha1_out_path, post_alpha_merged)"
   ]
  },
  {
   "cell_type": "code",
   "execution_count": null,
   "id": "5ab7ab4e-aa21-45b1-beea-1af1ff067f96",
   "metadata": {},
   "outputs": [],
   "source": []
  }
 ],
 "metadata": {
  "kernelspec": {
   "display_name": "Python 3 (ipykernel)",
   "language": "python",
   "name": "python3"
  },
  "language_info": {
   "codemirror_mode": {
    "name": "ipython",
    "version": 3
   },
   "file_extension": ".py",
   "mimetype": "text/x-python",
   "name": "python",
   "nbconvert_exporter": "python",
   "pygments_lexer": "ipython3",
   "version": "3.12.9"
  }
 },
 "nbformat": 4,
 "nbformat_minor": 5
}
